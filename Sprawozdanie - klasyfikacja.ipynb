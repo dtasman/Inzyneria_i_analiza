{
 "cells": [
  {
   "cell_type": "markdown",
   "metadata": {},
   "source": [
    "### Przeprowadzić analizę i klasyfikację zbioru danych: https://github.com/knecka/plikiUP/blob/main/diabetes.csv za pomocą regresji logistycznej.  \n",
    "  \n",
    "Przeczytać opis danych: https://www.kaggle.com/uciml/pima-indians-diabetes-database  \n",
    "W sprawozdaniu opisać słownie zbiór (co przedstawia, czym się charakteryzuje, co wiemy o nim na początku).  \n",
    "  \n",
    "W ramach analizy wykonać nastepujące zadania: \n",
    "- sprawdzić poprawność danych, spróbować uzupełnić brakujące wartości\n",
    "- zbadać rozkłady poszczególnych zmiennych (histogramy)\n",
    "- wyświetlić korelacje między wszystkimi zmiennymi w zbiorze\n",
    "- wyrysować wykresy zależności między poszczególnymi parami zmiennych oraz parami predyktor-zmienna wyjściowa, określić które predyktory wydają się być najskuteczniejsze do klasyfikacji\n",
    "- zweryfikować wstępną ocenę predyktorów za pomocą rankingu RFE\n",
    "- wykonać klasyfikację i opisać uzyskane wyniki (ogólna dokładność, wyniki w obrębie poszczególnych klas)\n",
    "- podjąć próbę polepszenia wyników klasyfikacji (np. przez inny dobór predyktorów lub inną strategię uzupełniania brakujących danych)\n",
    "- wyrysować krzywą ROC/AUC.  \n",
    "  \n",
    "Do każdego z powyższych kroków zostawić komentarz z obserwacjami lub wnioskami, które możemy wyciągnąć z danych wykresów, wyników itd."
   ]
  },
  {
   "cell_type": "code",
   "execution_count": null,
   "metadata": {},
   "outputs": [],
   "source": []
  }
 ],
 "metadata": {
  "kernelspec": {
   "display_name": "Python 3",
   "language": "python",
   "name": "python3"
  },
  "language_info": {
   "codemirror_mode": {
    "name": "ipython",
    "version": 3
   },
   "file_extension": ".py",
   "mimetype": "text/x-python",
   "name": "python",
   "nbconvert_exporter": "python",
   "pygments_lexer": "ipython3",
   "version": "3.8.3"
  }
 },
 "nbformat": 4,
 "nbformat_minor": 4
}
